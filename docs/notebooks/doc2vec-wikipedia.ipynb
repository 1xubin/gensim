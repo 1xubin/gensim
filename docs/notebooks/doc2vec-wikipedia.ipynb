{
 "cells": [
  {
   "cell_type": "markdown",
   "metadata": {},
   "source": [
    "# Training Doc2Vec on Wikipedia articles"
   ]
  },
  {
   "cell_type": "markdown",
   "metadata": {},
   "source": [
    "We replicate the **Document Embedding with Paragraph Vectors** paper, http://arxiv.org/abs/1507.07998.\n",
    "\n",
    "In this paper, the authors showed only DBOW results trained from Wikipedia data. So we replicate this experiments using not only DBOW but also the DM mode of the \"paragraph vector\" algorithm aka Doc2Vec."
   ]
  },
  {
   "cell_type": "markdown",
   "metadata": {},
   "source": [
    "## Basic setup"
   ]
  },
  {
   "cell_type": "markdown",
   "metadata": {},
   "source": [
    "Let's import the necessary modules and set up logging. The code below assumes Python 3.7+ and Gensim 4.0+."
   ]
  },
  {
   "cell_type": "code",
   "execution_count": 1,
   "metadata": {},
   "outputs": [],
   "source": [
    "import logging\n",
    "import multiprocessing\n",
    "from pprint import pprint\n",
    "\n",
    "import smart_open\n",
    "from gensim.corpora.wikicorpus import WikiCorpus, tokenize\n",
    "from gensim.models.doc2vec import Doc2Vec, TaggedDocument\n",
    "\n",
    "logging.basicConfig(format='%(asctime)s : %(levelname)s : %(message)s', level=logging.INFO)"
   ]
  },
  {
   "cell_type": "markdown",
   "metadata": {},
   "source": [
    "## Preparing the corpus"
   ]
  },
  {
   "cell_type": "markdown",
   "metadata": {},
   "source": [
    "First, download the dump of all Wikipedia articles from [here](http://download.wikimedia.org/enwiki/). You want the file named `enwiki-latest-pages-articles.xml.bz2`.\n",
    "\n",
    "Second, convert that Wikipedia article dump from the arcane Wikimedia XML format into a plain text file. This will make the subsequent training faster and also allow easy inspection of the data = \"input eyeballing\".\n",
    "\n",
    "We'll preprocess each article at the same time, normalizing its text to lowercase, splitting into tokens, etc.\n",
    "\n",
    "Below I use a regexp tokenizer that simply looks for alphabetic sequences as tokens. But feel free to adapt the text preprocessing to your own domain. High quality preprocessing is often critical for the final pipeline accuracy – garbage in, garbage out!"
   ]
  },
  {
   "cell_type": "code",
   "execution_count": null,
   "metadata": {},
   "outputs": [],
   "source": [
    "wiki = WikiCorpus(\n",
    "    \"enwiki-latest-pages-articles.xml.bz2\",  # path to the file you downloaded above\n",
    "    tokenizer_func=tokenize,  # simple regexp; plug in your own tokenizer here\n",
    "    metadata=True,  # also return the article titles and ids when parsing\n",
    "    dictionary={},  # don't start processing the data yet\n",
    ")"
   ]
  },
  {
   "cell_type": "code",
   "execution_count": 2,
   "metadata": {},
   "outputs": [
    {
     "name": "stderr",
     "output_type": "stream",
     "text": [
      "/Volumes/work/workspace/gensim/trunk/gensim/utils.py:1332: UserWarning: detected OSX with python3.8+; aliasing chunkize to chunkize_serial\n",
      "  warnings.warn(\"detected %s; aliasing chunkize to chunkize_serial\" % entity)\n",
      "2022-03-17 21:15:32,118 : INFO : processing article #0: 'Anarchism' (6538 tokens)\n",
      "2022-03-17 21:30:00,138 : INFO : processing article #500000: 'Spiritual Formation Bible' (54 tokens)\n",
      "2022-03-17 21:40:22,219 : INFO : processing article #1000000: 'Adolf von Liebenberg' (52 tokens)\n",
      "2022-03-17 21:49:43,825 : INFO : processing article #1500000: 'Small nucleolar RNA U6-53/MBII-28' (123 tokens)\n",
      "2022-03-17 21:59:23,620 : INFO : processing article #2000000: 'Xie Fei' (50 tokens)\n",
      "2022-03-17 22:09:17,460 : INFO : processing article #2500000: 'Rhein, Saskatchewan' (185 tokens)\n",
      "2022-03-17 22:19:39,293 : INFO : processing article #3000000: 'Kunyinsky District' (969 tokens)\n",
      "2022-03-17 22:30:41,221 : INFO : processing article #3500000: 'Lake Saint-Charles' (555 tokens)\n",
      "2022-03-17 22:41:17,487 : INFO : processing article #4000000: 'Mahāyānasaṃgraha' (612 tokens)\n",
      "2022-03-17 22:52:27,834 : INFO : processing article #4500000: 'Liriomyza trifolii' (1493 tokens)\n",
      "2022-03-17 23:04:41,464 : INFO : processing article #5000000: 'Daniel O. Griffin' (594 tokens)\n",
      "2022-03-17 23:08:58,451 : INFO : finished iterating over Wikipedia corpus of 5176019 documents with 2996051328 positions (total 21837336 articles, 3072543084 positions before pruning articles shorter than 50 words)\n"
     ]
    }
   ],
   "source": [
    "with smart_open.open(\"wiki.txt.gz\", \"w\", encoding='utf8') as fout:\n",
    "    for article_no, (content, (page_id, title)) in enumerate(wiki.get_texts()):\n",
    "        title = ' '.join(title.split())\n",
    "        if article_no % 500000 == 0:\n",
    "            logging.info(\"processing article #%i: %r (%i tokens)\", article_no, title, len(content))\n",
    "        fout.write(f\"{title}\\t{' '.join(content)}\\n\")  # title_of_article [TAB] words of the article"
   ]
  },
  {
   "cell_type": "markdown",
   "metadata": {},
   "source": [
    "The above takes about 2 hours on my 2021 M1 MacbookPro, and creates a new ~5.8 GB file named `wiki.txt.gz`. We're compressing the  text into `.gz` (GZIP) right away to save on disk space, using the [smart_open](https://github.com/RaRe-Technologies/smart_open) library.\n",
    "\n",
    "Next we'll set up a stream to load the preprocessed articles from `wiki.txt.gz` one by one, in the format expected by Doc2Vec, ready for training. We don't want to load everything into RAM at once, because that would blow up the memory. And it is not necessary – Gensim can handle streamed training data:"
   ]
  },
  {
   "cell_type": "code",
   "execution_count": 4,
   "metadata": {},
   "outputs": [],
   "source": [
    "class TaggedWikiCorpus:\n",
    "    def __init__(self, wiki_text_path):\n",
    "        self.wiki_text_path = wiki_text_path\n",
    "        \n",
    "    def __iter__(self):\n",
    "        for line in smart_open.open(self.wiki_text_path, encoding='utf8'):\n",
    "            title, words = line.split('\\t')\n",
    "            yield TaggedDocument(words=words.split(), tags=[title])\n",
    "\n",
    "documents = TaggedWikiCorpus('wiki.txt.gz')  # A streamed iterable; nothing in RAM yet."
   ]
  },
  {
   "cell_type": "code",
   "execution_count": 7,
   "metadata": {},
   "outputs": [
    {
     "name": "stdout",
     "output_type": "stream",
     "text": [
      "['Anarchism'] :  anarchism is political philosophy and movement that is sceptical of authority and rejects all involuntary coercive forms of hierarchy anarchism calls for the abolition of the state which it holds to be unnecessary undesirable and harmful as historically left wing movement placed on the farthest left of the political spectrum ……… criticism of philosophical anarchism defence of philosophical anarchism stating that both kinds of anarchism philosophical and political anarchism are philosophical and political claims anarchistic popular fiction novel an argument for philosophical anarchism external links anarchy archives anarchy archives is an online research center on the history and theory of anarchism\n"
     ]
    }
   ],
   "source": [
    "# Load and print the first preprocessed Wikipedia document, as a sanity check = \"input eyeballing\".\n",
    "first_doc = next(iter(documents))\n",
    "print(first_doc.tags, ': ', ' '.join(first_doc.words[:50] + ['………'] + first_doc.words[-50:]))"
   ]
  },
  {
   "cell_type": "markdown",
   "metadata": {},
   "source": [
    "The document seems legit so let's move on to finally training some Doc2vec models."
   ]
  },
  {
   "cell_type": "markdown",
   "metadata": {},
   "source": [
    "## Training Doc2Vec"
   ]
  },
  {
   "cell_type": "markdown",
   "metadata": {},
   "source": [
    "The original paper had a vocabulary size of 915,715 word types, so we'll try to match it by setting `max_final_vocab=915715` in the Doc2vec constructor."
   ]
  },
  {
   "cell_type": "code",
   "execution_count": 8,
   "metadata": {
    "scrolled": false
   },
   "outputs": [
    {
     "name": "stderr",
     "output_type": "stream",
     "text": [
      "2022-03-17 23:12:37,360 : INFO : Doc2Vec lifecycle event {'params': 'Doc2Vec<dbow+w,d200,n5,w8,mc5,s0.001,t10>', 'datetime': '2022-03-17T23:12:37.360576', 'gensim': '4.1.3.dev0', 'python': '3.8.9 (default, Oct 26 2021, 07:25:53) \\n[Clang 13.0.0 (clang-1300.0.29.30)]', 'platform': 'macOS-12.2.1-arm64-arm-64bit', 'event': 'created'}\n",
      "2022-03-17 23:12:37,365 : INFO : Doc2Vec lifecycle event {'params': 'Doc2Vec<dm/m,d200,n5,w8,mc5,s0.001,t10>', 'datetime': '2022-03-17T23:12:37.365118', 'gensim': '4.1.3.dev0', 'python': '3.8.9 (default, Oct 26 2021, 07:25:53) \\n[Clang 13.0.0 (clang-1300.0.29.30)]', 'platform': 'macOS-12.2.1-arm64-arm-64bit', 'event': 'created'}\n"
     ]
    }
   ],
   "source": [
    "cores = multiprocessing.cpu_count()\n",
    "\n",
    "models = [\n",
    "    # PV-DBOW \n",
    "    Doc2Vec(dm=0, dbow_words=1, vector_size=200, window=8, epochs=10, workers=cores, max_final_vocab=915715),\n",
    "    # PV-DM with average\n",
    "    Doc2Vec(dm=1, dm_mean=1, vector_size=200, window=8, epochs=10, workers=cores, max_final_vocab=915715),\n",
    "]"
   ]
  },
  {
   "cell_type": "code",
   "execution_count": 10,
   "metadata": {},
   "outputs": [
    {
     "name": "stderr",
     "output_type": "stream",
     "text": [
      "2022-03-17 23:14:38,521 : INFO : collecting all words and their counts\n",
      "2022-03-17 23:14:38,529 : INFO : PROGRESS: at example #0, processed 0 words (0/s), 0 word types, 0 tags\n",
      "2022-03-17 23:16:33,505 : INFO : PROGRESS: at example #500000, processed 654950164 words (5696698/s), 3222179 word types, 500000 tags\n",
      "2022-03-17 23:17:41,900 : INFO : PROGRESS: at example #1000000, processed 1018611068 words (5317131/s), 4480366 word types, 1000000 tags\n",
      "2022-03-17 23:18:36,271 : INFO : PROGRESS: at example #1500000, processed 1305140647 words (5269927/s), 5420104 word types, 1500000 tags\n",
      "2022-03-17 23:19:23,908 : INFO : PROGRESS: at example #2000000, processed 1550245240 words (5145361/s), 6188355 word types, 2000000 tags\n",
      "2022-03-17 23:20:10,242 : INFO : PROGRESS: at example #2500000, processed 1790661139 words (5188872/s), 6941128 word types, 2500000 tags\n",
      "2022-03-17 23:20:56,600 : INFO : PROGRESS: at example #3000000, processed 2028261627 words (5125392/s), 7664997 word types, 3000000 tags\n",
      "2022-03-17 23:21:41,918 : INFO : PROGRESS: at example #3500000, processed 2264063867 words (5203393/s), 8347719 word types, 3500000 tags\n",
      "2022-03-17 23:22:25,048 : INFO : PROGRESS: at example #4000000, processed 2488354257 words (5200461/s), 8971529 word types, 4000000 tags\n",
      "2022-03-17 23:23:07,487 : INFO : PROGRESS: at example #4500000, processed 2703313059 words (5065249/s), 9605666 word types, 4500000 tags\n",
      "2022-03-17 23:23:50,776 : INFO : PROGRESS: at example #5000000, processed 2925111571 words (5123692/s), 10217554 word types, 5000000 tags\n",
      "2022-03-17 23:24:19,393 : INFO : collected 10427023 word types and 5176019 unique tags from a corpus of 5176019 examples and 2996051328 words\n",
      "2022-03-17 23:24:22,841 : INFO : Doc2Vec lifecycle event {'msg': 'max_final_vocab=915715 and min_count=5 resulted in calc_min_count=27, effective_min_count=27', 'datetime': '2022-03-17T23:24:22.841740', 'gensim': '4.1.3.dev0', 'python': '3.8.9 (default, Oct 26 2021, 07:25:53) \\n[Clang 13.0.0 (clang-1300.0.29.30)]', 'platform': 'macOS-12.2.1-arm64-arm-64bit', 'event': 'prepare_vocab'}\n",
      "2022-03-17 23:24:22,842 : INFO : Creating a fresh vocabulary\n",
      "2022-03-17 23:24:26,131 : INFO : Doc2Vec lifecycle event {'msg': 'effective_min_count=27 retains 894446 unique words (8.578153131531407%% of original 10427023, drops 9532577)', 'datetime': '2022-03-17T23:24:26.131147', 'gensim': '4.1.3.dev0', 'python': '3.8.9 (default, Oct 26 2021, 07:25:53) \\n[Clang 13.0.0 (clang-1300.0.29.30)]', 'platform': 'macOS-12.2.1-arm64-arm-64bit', 'event': 'prepare_vocab'}\n",
      "2022-03-17 23:24:26,131 : INFO : Doc2Vec lifecycle event {'msg': 'effective_min_count=27 leaves 2965917340 word corpus (98.99420988824929%% of original 2996051328, drops 30133988)', 'datetime': '2022-03-17T23:24:26.131643', 'gensim': '4.1.3.dev0', 'python': '3.8.9 (default, Oct 26 2021, 07:25:53) \\n[Clang 13.0.0 (clang-1300.0.29.30)]', 'platform': 'macOS-12.2.1-arm64-arm-64bit', 'event': 'prepare_vocab'}\n",
      "2022-03-17 23:24:28,513 : INFO : deleting the raw counts dictionary of 10427023 items\n",
      "2022-03-17 23:24:28,581 : INFO : sample=0.001 downsamples 23 most-common words\n",
      "2022-03-17 23:24:28,581 : INFO : Doc2Vec lifecycle event {'msg': 'downsampling leaves estimated 2412497836.8123784 word corpus (81.3%% of prior 2965917340)', 'datetime': '2022-03-17T23:24:28.581828', 'gensim': '4.1.3.dev0', 'python': '3.8.9 (default, Oct 26 2021, 07:25:53) \\n[Clang 13.0.0 (clang-1300.0.29.30)]', 'platform': 'macOS-12.2.1-arm64-arm-64bit', 'event': 'prepare_vocab'}\n",
      "2022-03-17 23:24:32,724 : INFO : estimated required memory for 894446 words and 200 dimensions: 7054355600 bytes\n",
      "2022-03-17 23:24:32,725 : INFO : resetting layer weights\n",
      "2022-03-17 23:24:37,804 : INFO : resetting layer weights\n"
     ]
    },
    {
     "name": "stdout",
     "output_type": "stream",
     "text": [
      "Doc2Vec<dbow+w,d200,n5,w8,mc5,s0.001,t10>\n",
      "Doc2Vec<dm/m,d200,n5,w8,mc5,s0.001,t10>\n"
     ]
    }
   ],
   "source": [
    "models[0].build_vocab(documents, progress_per=500000)\n",
    "print(models[0])\n",
    "\n",
    "# Save some time by copying the vocabulary structures from the first model.\n",
    "# Both models are built on top of exactly the same data, so there's no need to repeat the vocab-building step.\n",
    "models[1].reset_from(models[0])\n",
    "print(models[1])"
   ]
  },
  {
   "cell_type": "markdown",
   "metadata": {},
   "source": [
    "Now we’re ready to train Doc2Vec on the English Wikipedia. "
   ]
  },
  {
   "cell_type": "code",
   "execution_count": null,
   "metadata": {
    "scrolled": true
   },
   "outputs": [
    {
     "name": "stderr",
     "output_type": "stream",
     "text": [
      "2022-03-17 23:29:03,317 : WARNING : Effective 'alpha' higher than previous training cycles\n",
      "2022-03-17 23:29:03,320 : INFO : Doc2Vec lifecycle event {'msg': 'training model with 10 workers on 894446 vocabulary and 200 features, using sg=1 hs=0 sample=0.001 negative=5 window=8 shrink_windows=True', 'datetime': '2022-03-17T23:29:03.320153', 'gensim': '4.1.3.dev0', 'python': '3.8.9 (default, Oct 26 2021, 07:25:53) \\n[Clang 13.0.0 (clang-1300.0.29.30)]', 'platform': 'macOS-12.2.1-arm64-arm-64bit', 'event': 'train'}\n",
      "2022-03-17 23:29:04,361 : INFO : EPOCH 1 - PROGRESS: at 0.00% examples, 379389 words/s, in_qsize 19, out_qsize 0\n",
      "2022-03-17 23:59:04,372 : INFO : EPOCH 1 - PROGRESS: at 17.95% examples, 429937 words/s, in_qsize 19, out_qsize 0\n",
      "2022-03-18 00:29:04,379 : INFO : EPOCH 1 - PROGRESS: at 55.55% examples, 437068 words/s, in_qsize 20, out_qsize 0\n",
      "2022-03-18 00:59:04,423 : INFO : EPOCH 1 - PROGRESS: at 98.13% examples, 439343 words/s, in_qsize 20, out_qsize 0\n",
      "2022-03-18 01:00:11,996 : INFO : worker thread finished; awaiting finish of 9 more threads\n",
      "2022-03-18 01:00:12,013 : INFO : worker thread finished; awaiting finish of 8 more threads\n",
      "2022-03-18 01:00:12,028 : INFO : worker thread finished; awaiting finish of 7 more threads\n",
      "2022-03-18 01:00:12,045 : INFO : worker thread finished; awaiting finish of 6 more threads\n",
      "2022-03-18 01:00:12,084 : INFO : worker thread finished; awaiting finish of 5 more threads\n",
      "2022-03-18 01:00:12,110 : INFO : worker thread finished; awaiting finish of 4 more threads\n",
      "2022-03-18 01:00:12,124 : INFO : worker thread finished; awaiting finish of 3 more threads\n",
      "2022-03-18 01:00:12,127 : INFO : worker thread finished; awaiting finish of 2 more threads\n",
      "2022-03-18 01:00:12,128 : INFO : worker thread finished; awaiting finish of 1 more threads\n",
      "2022-03-18 01:00:12,149 : INFO : worker thread finished; awaiting finish of 0 more threads\n",
      "2022-03-18 01:00:12,150 : INFO : EPOCH - 1 : training on 2996051328 raw words (2402988821 effective words) took 5468.8s, 439397 effective words/s\n",
      "2022-03-18 01:00:13,169 : INFO : EPOCH 2 - PROGRESS: at 0.00% examples, 390039 words/s, in_qsize 19, out_qsize 0\n",
      "2022-03-18 01:30:13,186 : INFO : EPOCH 2 - PROGRESS: at 19.41% examples, 451763 words/s, in_qsize 20, out_qsize 0\n",
      "2022-03-18 02:00:13,162 : INFO : EPOCH 2 - PROGRESS: at 57.23% examples, 446954 words/s, in_qsize 20, out_qsize 0\n",
      "2022-03-18 02:30:05,143 : INFO : worker thread finished; awaiting finish of 9 more threads\n",
      "2022-03-18 02:30:05,151 : INFO : worker thread finished; awaiting finish of 8 more threads\n",
      "2022-03-18 02:30:05,152 : INFO : worker thread finished; awaiting finish of 7 more threads\n",
      "2022-03-18 02:30:05,162 : INFO : worker thread finished; awaiting finish of 6 more threads\n",
      "2022-03-18 02:30:05,206 : INFO : worker thread finished; awaiting finish of 5 more threads\n",
      "2022-03-18 02:30:05,229 : INFO : worker thread finished; awaiting finish of 4 more threads\n",
      "2022-03-18 02:30:05,232 : INFO : worker thread finished; awaiting finish of 3 more threads\n",
      "2022-03-18 02:30:05,244 : INFO : worker thread finished; awaiting finish of 2 more threads\n",
      "2022-03-18 02:30:05,248 : INFO : worker thread finished; awaiting finish of 1 more threads\n",
      "2022-03-18 02:30:05,255 : INFO : worker thread finished; awaiting finish of 0 more threads\n",
      "2022-03-18 02:30:05,255 : INFO : EPOCH - 2 : training on 2996051328 raw words (2402947663 effective words) took 5393.0s, 445566 effective words/s\n",
      "2022-03-18 02:30:06,266 : INFO : EPOCH 3 - PROGRESS: at 0.00% examples, 414962 words/s, in_qsize 19, out_qsize 0\n",
      "2022-03-18 03:00:06,339 : INFO : EPOCH 3 - PROGRESS: at 19.29% examples, 449902 words/s, in_qsize 19, out_qsize 0\n",
      "2022-03-18 03:30:06,314 : INFO : EPOCH 3 - PROGRESS: at 57.27% examples, 447187 words/s, in_qsize 19, out_qsize 0\n",
      "2022-03-18 03:59:56,898 : INFO : worker thread finished; awaiting finish of 9 more threads\n",
      "2022-03-18 03:59:56,905 : INFO : worker thread finished; awaiting finish of 8 more threads\n",
      "2022-03-18 03:59:56,908 : INFO : worker thread finished; awaiting finish of 7 more threads\n",
      "2022-03-18 03:59:56,919 : INFO : worker thread finished; awaiting finish of 6 more threads\n",
      "2022-03-18 03:59:56,982 : INFO : worker thread finished; awaiting finish of 5 more threads\n",
      "2022-03-18 03:59:56,989 : INFO : worker thread finished; awaiting finish of 4 more threads\n",
      "2022-03-18 03:59:57,008 : INFO : worker thread finished; awaiting finish of 3 more threads\n",
      "2022-03-18 03:59:57,020 : INFO : worker thread finished; awaiting finish of 2 more threads\n",
      "2022-03-18 03:59:57,025 : INFO : worker thread finished; awaiting finish of 1 more threads\n",
      "2022-03-18 03:59:57,034 : INFO : worker thread finished; awaiting finish of 0 more threads\n",
      "2022-03-18 03:59:57,034 : INFO : EPOCH - 3 : training on 2996051328 raw words (2402969567 effective words) took 5391.8s, 445672 effective words/s\n",
      "2022-03-18 03:59:58,059 : INFO : EPOCH 4 - PROGRESS: at 0.00% examples, 400337 words/s, in_qsize 19, out_qsize 1\n",
      "2022-03-18 04:29:58,091 : INFO : EPOCH 4 - PROGRESS: at 19.41% examples, 451678 words/s, in_qsize 19, out_qsize 0\n",
      "2022-03-18 04:59:58,167 : INFO : EPOCH 4 - PROGRESS: at 57.02% examples, 445731 words/s, in_qsize 20, out_qsize 0\n",
      "2022-03-18 05:29:58,234 : INFO : EPOCH 4 - PROGRESS: at 99.74% examples, 444166 words/s, in_qsize 20, out_qsize 0\n",
      "2022-03-18 05:30:07,257 : INFO : worker thread finished; awaiting finish of 9 more threads\n",
      "2022-03-18 05:30:07,259 : INFO : worker thread finished; awaiting finish of 8 more threads\n",
      "2022-03-18 05:30:07,262 : INFO : worker thread finished; awaiting finish of 7 more threads\n",
      "2022-03-18 05:30:07,296 : INFO : worker thread finished; awaiting finish of 6 more threads\n",
      "2022-03-18 05:30:07,321 : INFO : worker thread finished; awaiting finish of 5 more threads\n",
      "2022-03-18 05:30:07,327 : INFO : worker thread finished; awaiting finish of 4 more threads\n",
      "2022-03-18 05:30:07,337 : INFO : worker thread finished; awaiting finish of 3 more threads\n",
      "2022-03-18 05:30:07,360 : INFO : worker thread finished; awaiting finish of 2 more threads\n",
      "2022-03-18 05:30:07,363 : INFO : worker thread finished; awaiting finish of 1 more threads\n",
      "2022-03-18 05:30:07,395 : INFO : worker thread finished; awaiting finish of 0 more threads\n",
      "2022-03-18 05:30:07,395 : INFO : EPOCH - 4 : training on 2996051328 raw words (2402983106 effective words) took 5410.2s, 444155 effective words/s\n",
      "2022-03-18 05:30:08,414 : INFO : EPOCH 5 - PROGRESS: at 0.00% examples, 407411 words/s, in_qsize 19, out_qsize 1\n",
      "2022-03-18 06:00:08,451 : INFO : EPOCH 5 - PROGRESS: at 19.32% examples, 450435 words/s, in_qsize 19, out_qsize 0\n",
      "2022-03-18 06:30:08,480 : INFO : EPOCH 5 - PROGRESS: at 57.18% examples, 446664 words/s, in_qsize 19, out_qsize 0\n",
      "2022-03-18 07:00:08,481 : INFO : EPOCH 5 - PROGRESS: at 99.48% examples, 443405 words/s, in_qsize 19, out_qsize 0\n",
      "2022-03-18 07:00:27,046 : INFO : worker thread finished; awaiting finish of 9 more threads\n",
      "2022-03-18 07:00:27,057 : INFO : worker thread finished; awaiting finish of 8 more threads\n",
      "2022-03-18 07:00:27,070 : INFO : worker thread finished; awaiting finish of 7 more threads\n",
      "2022-03-18 07:00:27,083 : INFO : worker thread finished; awaiting finish of 6 more threads\n",
      "2022-03-18 07:00:27,103 : INFO : worker thread finished; awaiting finish of 5 more threads\n",
      "2022-03-18 07:00:27,110 : INFO : worker thread finished; awaiting finish of 4 more threads\n",
      "2022-03-18 07:00:27,117 : INFO : worker thread finished; awaiting finish of 3 more threads\n",
      "2022-03-18 07:00:27,123 : INFO : worker thread finished; awaiting finish of 2 more threads\n",
      "2022-03-18 07:00:27,151 : INFO : worker thread finished; awaiting finish of 1 more threads\n",
      "2022-03-18 07:00:27,156 : INFO : worker thread finished; awaiting finish of 0 more threads\n",
      "2022-03-18 07:00:27,156 : INFO : EPOCH - 5 : training on 2996051328 raw words (2402973707 effective words) took 5419.7s, 443375 effective words/s\n",
      "2022-03-18 07:00:28,166 : INFO : EPOCH 6 - PROGRESS: at 0.00% examples, 411123 words/s, in_qsize 19, out_qsize 0\n",
      "2022-03-18 07:30:28,233 : INFO : EPOCH 6 - PROGRESS: at 19.44% examples, 452181 words/s, in_qsize 18, out_qsize 1\n",
      "2022-03-18 08:00:28,218 : INFO : EPOCH 6 - PROGRESS: at 57.42% examples, 447976 words/s, in_qsize 19, out_qsize 0\n"
     ]
    }
   ],
   "source": [
    "for model in models:\n",
    "    model.train(documents, total_examples=model.corpus_count, epochs=model.epochs, report_delay=30*60)"
   ]
  },
  {
   "cell_type": "markdown",
   "metadata": {},
   "source": [
    "## Similarity interface"
   ]
  },
  {
   "cell_type": "markdown",
   "metadata": {},
   "source": [
    "After that, let's test both models! The DBOW model shows similar results as the original paper.\n",
    "\n",
    "First, calculate the most similar Wikipedia articles to the \"Machine learning\" article. The calculated word vectors and document vectors are separately stored, in `model.wv` and `model.dv` respectively:"
   ]
  },
  {
   "cell_type": "code",
   "execution_count": null,
   "metadata": {},
   "outputs": [],
   "source": [
    "for model in models:\n",
    "    print(model)\n",
    "    pprint(model.dv.most_similar(positive=[\"Machine learning\"], topn=20))"
   ]
  },
  {
   "cell_type": "markdown",
   "metadata": {},
   "source": [
    "The DBOW model interprets the word 'Machine Learning' as a part of the Computer Science field, while the DM model as a Data Science related field.\n",
    "\n",
    "Second, let's calculate the most similar Wikipedia entries to \"Lady Gaga\" using Paragraph Vector:"
   ]
  },
  {
   "cell_type": "code",
   "execution_count": null,
   "metadata": {
    "scrolled": false
   },
   "outputs": [],
   "source": [
    "for model in models:\n",
    "    print(model)\n",
    "    pprint(model.dv.most_similar(positive=[\"Lady Gaga\"], topn=10))"
   ]
  },
  {
   "cell_type": "markdown",
   "metadata": {
    "collapsed": true
   },
   "source": [
    "The DBOW model reveals similar singers in the U.S., while the DM model understands that many of Lady Gaga's songs contain the word \"Lady Gaga\".\n",
    "\n",
    "Finally, let's do some wilder artihmetics that embeddings are famous for. What are the entries most similar to \"Lady Gaga\" - \"American\" + \"Japanese\"? Note that \"American\" and \"Japanese\" are word vectors, but they live in the same space as the document vectors so we can add / subtract them for some interesting results. Note that all word vectors were already lowercased by our tokenizer above, so we look for the lowercased version here:"
   ]
  },
  {
   "cell_type": "code",
   "execution_count": null,
   "metadata": {
    "scrolled": false
   },
   "outputs": [],
   "source": [
    "for model in models:\n",
    "    print(model)\n",
    "    vec = [model.dv[\"Lady Gaga\"] - model.wv[\"american\"] + model.wv[\"japanese\"]]\n",
    "    pprint([m for m in model.dv.most_similar(vec, topn=11) if m[0] != \"Lady Gaga\"])"
   ]
  },
  {
   "cell_type": "markdown",
   "metadata": {},
   "source": [
    "As a result, the DBOW model surfaced artists similar to Lady Gaga in Japan, such as 'Perfume', who is the most famous idol in Japan.\n",
    "\n",
    "On the other hand, results from the DM model don't include any Japanese artists in its top 10 most similar documents.\n",
    "\n",
    "These results demonstrate that the DBOW training mode employed in the original paper is serviceable for calculating similarity between document vectors, word vectors, or a combination of both."
   ]
  }
 ],
 "metadata": {
  "kernelspec": {
   "display_name": "Python 3 (ipykernel)",
   "language": "python",
   "name": "python3"
  },
  "language_info": {
   "codemirror_mode": {
    "name": "ipython",
    "version": 3
   },
   "file_extension": ".py",
   "mimetype": "text/x-python",
   "name": "python",
   "nbconvert_exporter": "python",
   "pygments_lexer": "ipython3",
   "version": "3.8.9"
  }
 },
 "nbformat": 4,
 "nbformat_minor": 1
}
